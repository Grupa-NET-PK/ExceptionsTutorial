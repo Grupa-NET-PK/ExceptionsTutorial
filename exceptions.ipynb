{
 "cells": [
  {
   "cell_type": "code",
   "execution_count": null,
   "metadata": {
    "dotnet_interactive": {
     "language": "csharp"
    }
   },
   "outputs": [],
   "source": [
    "/* Plan:\n",
    "1. Wyjątek.\n",
    "2. Składnia.\n",
    "3. Przechwytywanie.\n",
    "4. Ślad stosu.\n",
    "5. Rzucanie.\n",
    "6. Dziedziczenie.\n",
    "7. Tworzenie.\n",
    "8. Popularne.\n",
    "9. Trudne.\n",
    "*/"
   ]
  },
  {
   "cell_type": "code",
   "execution_count": null,
   "metadata": {
    "dotnet_interactive": {
     "language": "csharp"
    }
   },
   "outputs": [],
   "source": [
    "/* Ad 1. Wyjątek.\n",
    "-> problem napotkany przy wykonaniu programu\n",
    "-> umożliwia zgrabną reakcję na problem\n",
    "-> reakcja na nieoczekiwaną sytuację\n",
    "-> wyjątki są oczekiwane podczas wykonania programu\n",
    "\n",
    "\n",
    "\"they are the bread and butter of modern programming languages\" ~Jeff Atwood\n",
    "\n",
    "obsługa wyjątków dla laików (60 min, polecam tempo 2x): https://www.youtube.com/watch?v=LSkbnpjCEkk\n",
    "*/"
   ]
  },
  {
   "cell_type": "code",
   "execution_count": null,
   "metadata": {
    "dotnet_interactive": {
     "language": "csharp"
    }
   },
   "outputs": [],
   "source": [
    "/* Ad 2. Składnia. */\n",
    "\n",
    "try {\n",
    "    // Kod rzucający wyjątek\n",
    "}\n",
    "catch (Exception e) {\n",
    "    // Obsługa wyjątku\n",
    "}\n",
    "finally {\n",
    "    // Kod, który zostanie wykonany ZAWSZE\n",
    "}"
   ]
  },
  {
   "cell_type": "code",
   "execution_count": null,
   "metadata": {
    "dotnet_interactive": {
     "language": "csharp"
    }
   },
   "outputs": [],
   "source": [
    "/* Ad 3. Przechwytywanie. */"
   ]
  },
  {
   "cell_type": "code",
   "execution_count": null,
   "metadata": {
    "dotnet_interactive": {
     "language": "csharp"
    }
   },
   "outputs": [],
   "source": [
    "static void ParentMethod(System.IO.StreamReader reader) {\n",
    "    Method(reader);\n",
    "}\n",
    "\n",
    "// Poniższa funkcja rzuca wyjątek typu: ArgumentOutOfRangeException\n",
    "static void Method(System.IO.StreamReader reader) {\n",
    "    var line = reader.ReadLine();\n",
    "    var lastChar = line.ElementAt(line.Length); // Próbujemy odczytać literę spoza zakresu!!!\n",
    "    Console.WriteLine(\"Last character is: {0}\", lastChar);\n",
    "}"
   ]
  },
  {
   "cell_type": "code",
   "execution_count": null,
   "metadata": {
    "dotnet_interactive": {
     "language": "csharp"
    }
   },
   "outputs": [
    {
     "name": "stdout",
     "output_type": "stream",
     "text": [
      "Exception occured: Specified argument was out of the range of valid values. (Parameter 'index')\r\n",
      "Anyway, this is also executed.\r\n"
     ]
    }
   ],
   "source": [
    "// Przykład P1: Klasycznie.\n",
    "static void GrandparentMethod() {\n",
    "    System.IO.StreamReader reader = null;\n",
    "\n",
    "    try {\n",
    "        reader = new System.IO.StreamReader(\"adventofcodeiscoming.txt\");\n",
    "        ParentMethod(reader);\n",
    "        Console.WriteLine(\"This cannot happen.\");\n",
    "    }\n",
    "    catch (Exception e) {\n",
    "        Console.WriteLine(\"Exception occured: {0}\", e.Message);\n",
    "    }\n",
    "    finally {\n",
    "        reader?.Close();\n",
    "        Console.WriteLine(\"Anyway, this is also executed.\");\n",
    "    }\n",
    "}\n",
    "\n",
    "GrandparentMethod();"
   ]
  },
  {
   "cell_type": "code",
   "execution_count": null,
   "metadata": {
    "dotnet_interactive": {
     "language": "csharp"
    }
   },
   "outputs": [
    {
     "name": "stdout",
     "output_type": "stream",
     "text": [
      "ArgumentOutOfRangeException occured: Specified argument was out of the range of valid values. (Parameter 'index')\r\n",
      "Anyway, this is also executed.\r\n"
     ]
    }
   ],
   "source": [
    "// Przykład P2: Wielokrotny catch.\n",
    "static void GrandparentMethod() {\n",
    "    System.IO.StreamReader reader = null;\n",
    "\n",
    "    try {\n",
    "        reader = new System.IO.StreamReader(\"adventofcodeiscoming.txt\");\n",
    "        ParentMethod(reader);\n",
    "    }\n",
    "    catch (IndexOutOfRangeException e) {\n",
    "        Console.WriteLine(\"IndexOutOfRangeException occured: {0}\", e.Message);\n",
    "    }\n",
    "    catch (ArgumentOutOfRangeException e) {\n",
    "        Console.WriteLine(\"ArgumentOutOfRangeException occured: {0}\", e.Message);\n",
    "    }\n",
    "    catch (Exception e) {\n",
    "        Console.WriteLine(\"Exception occured: {0}\", e.Message);\n",
    "    }\n",
    "    finally {\n",
    "        reader?.Close();\n",
    "        Console.WriteLine(\"Anyway, this is also executed.\");\n",
    "    }\n",
    "}\n",
    "\n",
    "GrandparentMethod();"
   ]
  },
  {
   "cell_type": "code",
   "execution_count": null,
   "metadata": {
    "dotnet_interactive": {
     "language": "csharp"
    }
   },
   "outputs": [
    {
     "name": "stdout",
     "output_type": "stream",
     "text": [
      "Second ArgumentOutOfRangeException occured: Specified argument was out of the range of valid values. (Parameter 'index')\r\n",
      "Anyway, this is also executed.\r\n"
     ]
    }
   ],
   "source": [
    "// Przykład P3: Wielokrotny catch i filtry.\n",
    "static void GrandparentMethod() {\n",
    "    var checkForArgumentOutOfRange = false;\n",
    "    var anotherCheckForArgumentOutOfRange = true;\n",
    "    var checkForException = true;\n",
    "    System.IO.StreamReader reader = null;\n",
    "\n",
    "    try {\n",
    "        reader = new System.IO.StreamReader(\"adventofcodeiscoming.txt\");\n",
    "        ParentMethod(reader);\n",
    "    }\n",
    "    catch (IndexOutOfRangeException e) {\n",
    "        Console.WriteLine(\"IndexOutOfRangeException occured: {0}\", e.Message);\n",
    "    }\n",
    "    catch (ArgumentOutOfRangeException e) when (checkForArgumentOutOfRange) {\n",
    "        Console.WriteLine(\"First ArgumentOutOfRangeException occured: {0}\", e.Message);\n",
    "    }\n",
    "    catch (ArgumentOutOfRangeException e) when (anotherCheckForArgumentOutOfRange) {\n",
    "        Console.WriteLine(\"Second ArgumentOutOfRangeException occured: {0}\", e.Message);\n",
    "    }\n",
    "    catch (Exception e) when (checkForException) {\n",
    "        Console.WriteLine(\"Exception occured: {0}\", e.Message);\n",
    "    }\n",
    "    finally {\n",
    "        reader?.Close();\n",
    "        Console.WriteLine(\"Anyway, this is also executed.\");\n",
    "    }\n",
    "}\n",
    "\n",
    "GrandparentMethod();"
   ]
  },
  {
   "cell_type": "code",
   "execution_count": null,
   "metadata": {
    "dotnet_interactive": {
     "language": "csharp"
    }
   },
   "outputs": [
    {
     "name": "stdout",
     "output_type": "stream",
     "text": [
      "HttpNotFound occured\r\n"
     ]
    }
   ],
   "source": [
    "// Przykład P4: Życiowy.\n",
    "using System.Net;\n",
    "\n",
    "WebClient wc = null;\n",
    "try\n",
    "{\n",
    "    wc = new WebClient();\n",
    "    var resultData = wc.DownloadString(\"https://github.com/gryszardd\");\n",
    "    Console.WriteLine(\"OK\");\n",
    "}\n",
    "catch (WebException ex) when (ex.Status == WebExceptionStatus.ConnectFailure)\n",
    "{\n",
    "    Console.WriteLine(\"ConnectFailure occured\");\n",
    "    //code specifically for a WebException ConnectFailure\n",
    "}\n",
    "catch (WebException ex) when ((ex.Response as HttpWebResponse)?.StatusCode == HttpStatusCode.NotFound)\n",
    "{\n",
    "    Console.WriteLine(\"HttpNotFound occured\");\n",
    "    //code specifically for a WebException NotFound\n",
    "}\n",
    "catch (WebException ex) when ((ex.Response as HttpWebResponse)?.StatusCode == HttpStatusCode.InternalServerError)\n",
    "{\n",
    "    Console.WriteLine(\"InternalServerError occured\");\n",
    "    //code specifically for a WebException InternalServerError\n",
    "}\n",
    "finally\n",
    "{\n",
    "    wc?.Dispose();\n",
    "}"
   ]
  },
  {
   "cell_type": "code",
   "execution_count": null,
   "metadata": {
    "dotnet_interactive": {
     "language": "csharp"
    }
   },
   "outputs": [],
   "source": [
    "/* Ad 4. Ślad stosu.\n",
    "\n",
    "   pierwsza linia:  metoda, w której wyrzucono wyjątek\n",
    "   druga linia:     metoda, która wywołała powyższą metodę\n",
    "   trzecia linia:   ...\n",
    "   ...\n",
    "   ostatnia linia:  metoda, która obsłużyła wyjątek\n",
    "*/\n",
    "\n",
    "Exception e;\n",
    "string output;\n",
    "\n",
    "output = e.Message;    // tresć wyjątku\n",
    "output = e.StackTrace; // ślad stosu\n",
    "output = e.ToString(); // klasa, treść i ślad stosu"
   ]
  },
  {
   "cell_type": "code",
   "execution_count": null,
   "metadata": {
    "dotnet_interactive": {
     "language": "csharp"
    }
   },
   "outputs": [
    {
     "name": "stdout",
     "output_type": "stream",
     "text": [
      "Exception occured: System.ArgumentOutOfRangeException: Specified argument was out of the range of valid values. (Parameter 'index')\r\n",
      "   at System.Linq.ThrowHelper.ThrowArgumentOutOfRangeException(ExceptionArgument argument)\r\n",
      "   at System.Linq.Enumerable.ElementAt[TSource](IEnumerable`1 source, Int32 index)\r\n",
      "   at Submission#6.Method(StreamReader reader)\r\n",
      "   at Submission#6.ParentMethod(StreamReader reader)\r\n",
      "   at Submission#12.GrandparentMethod()\r\n",
      "Anyway, this is also executed.\r\n"
     ]
    }
   ],
   "source": [
    "// Przykład P5: To samo.\n",
    "static void GrandparentMethod() {\n",
    "    System.IO.StreamReader reader = null;\n",
    "    \n",
    "    try {\n",
    "        reader = new System.IO.StreamReader(\"adventofcodeiscoming.txt\");\n",
    "        ParentMethod(reader);\n",
    "        Console.WriteLine(\"This cannot happen.\");\n",
    "    }\n",
    "    catch (Exception e) {\n",
    "        Console.WriteLine(\"Exception occured: {0}\", e.ToString());\n",
    "    }\n",
    "    finally {\n",
    "        reader?.Close();\n",
    "        Console.WriteLine(\"Anyway, this is also executed.\");\n",
    "    }\n",
    "}\n",
    "\n",
    "GrandparentMethod();"
   ]
  },
  {
   "cell_type": "code",
   "execution_count": null,
   "metadata": {
    "dotnet_interactive": {
     "language": "csharp"
    }
   },
   "outputs": [],
   "source": [
    "/* Przykład P6: Aplikacja konsolowa.\n",
    "Nieobsługiwane wyjątki trafiają do funkcji Main i powodują, że program się wysypuje.\n",
    "\n",
    "Unhandled exception. System.ApplicationException: Randomowy wyjątek.\n",
    "   at ConsoleApp1.ExceptionMaker.ThrowException() in C:\\Users\\rys\\source\\repos\\ConsoleApp1\\ExceptionMaker.cs:line 13\n",
    "   at ConsoleApp1.Program.Main(String[] args) in C:\\Users\\rys\\source\\repos\\ConsoleApp1\\Program.cs:line 9\n",
    "\n",
    "*/"
   ]
  },
  {
   "cell_type": "code",
   "execution_count": null,
   "metadata": {
    "dotnet_interactive": {
     "language": "csharp"
    }
   },
   "outputs": [],
   "source": [
    "/* Przykład P7: Aplikacja WinForms.\n",
    "\n",
    "System.FormatException: Nieprawidłowy format ciągu wejściowego.\n",
    "   w System.Number.StringToNumber(String str, NumberStyles options, NumberBuffer& number, NumberFormatInfo info, Boolean parseDecimal)\n",
    "   w System.Number.ParseInt32(String s, NumberStyles style, NumberFormatInfo info)\n",
    "   w System.Int32.Parse(String s)\n",
    "   w WindowsFormsApp1.DateConverter.buttonSetDateInCalendar_Click(Object sender, EventArgs e) w C:\\Users\\rys\\source\\repos\\WindowsFormsApp1\\DateConverter.cs:wiersz 23\n",
    "   w System.Windows.Forms.Control.OnClick(EventArgs e)\n",
    "   w System.Windows.Forms.Button.OnClick(EventArgs e)\n",
    "   w System.Windows.Forms.Button.PerformClick()\n",
    "   w System.Windows.Forms.Form.ProcessDialogKey(Keys keyData)\n",
    "   w System.Windows.Forms.Control.ProcessDialogKey(Keys keyData)\n",
    "   w System.Windows.Forms.Control.PreProcessMessage(Message& msg)\n",
    "   w System.Windows.Forms.Control.PreProcessControlMessageInternal(Control target, Message& msg)\n",
    "   w System.Windows.Forms.Application.ThreadContext.PreTranslateMessage(MSG& msg)\n",
    "\n",
    "*/"
   ]
  },
  {
   "cell_type": "code",
   "execution_count": null,
   "metadata": {
    "dotnet_interactive": {
     "language": "csharp"
    }
   },
   "outputs": [],
   "source": [
    "/* Przykład P8: Aplikacja webowa.\n",
    "\n",
    "[InvalidOperationException: A specified Include path is not valid. The EntityType 'WebApplication2.Models.Animal' does not declare a navigation property with the name 'NotExistingTable'.]\n",
    "   System.Data.Entity.Core.Objects.Internal.ObjectFullSpanRewriter.ConvertSpanPath(SpanPathInfo parentInfo, List`1 navPropNames, Int32 pos) +398\n",
    "   System.Data.Entity.Core.Objects.Internal.ObjectFullSpanRewriter..ctor(DbCommandTree tree, DbExpression toRewrite, Span span, AliasGenerator aliasGenerator) +293\n",
    "   System.Data.Entity.Core.Objects.Internal.ObjectSpanRewriter.TryRewrite(DbQueryCommandTree tree, Span span, MergeOption mergeOption, AliasGenerator aliasGenerator, DbExpression& newQuery, SpanIndex& spanInfo) +81\n",
    "   System.Data.Entity.Core.Objects.Internal.ObjectQueryExecutionPlanFactory.Prepare(ObjectContext context, DbQueryCommandTree tree, Type elementType, MergeOption mergeOption, Boolean streaming, Span span, IEnumerable`1 compiledQueryParameters, AliasGenerator aliasGenerator) +71\n",
    "   System.Data.Entity.Core.Objects.EntitySqlQueryState.GetExecutionPlan(Nullable`1 forMergeOption) +486\n",
    "   System.Data.Entity.Core.Objects.<>c__DisplayClass7.<GetResults>b__6() +39\n",
    "   System.Data.Entity.Core.Objects.ObjectContext.ExecuteInTransaction(Func`1 func, IDbExecutionStrategy executionStrategy, Boolean startLocalTransaction, Boolean releaseConnectionOnSuccess) +288\n",
    "   System.Data.Entity.Core.Objects.<>c__DisplayClass7.<GetResults>b__5() +154\n",
    "   System.Data.Entity.SqlServer.DefaultSqlExecutionStrategy.Execute(Func`1 operation) +189\n",
    "   System.Data.Entity.Core.Objects.ObjectQuery`1.GetResults(Nullable`1 forMergeOption) +279\n",
    "   System.Data.Entity.Core.Objects.ObjectQuery`1.<System.Collections.Generic.IEnumerable<T>.GetEnumerator>b__0() +11\n",
    "   System.Data.Entity.Internal.LazyEnumerator`1.MoveNext() +45\n",
    "   System.Collections.Generic.List`1..ctor(IEnumerable`1 collection) +186\n",
    "   System.Linq.Enumerable.ToList(IEnumerable`1 source) +61\n",
    "   WebApplication2.Controllers.HomeController.Index() in C:\\Users\\rys\\source\\repos\\WebApplication2\\Controllers\\HomeController.cs:26\n",
    "   lambda_method(Closure , ControllerBase , Object[] ) +62\n",
    "   System.Web.Mvc.ActionMethodDispatcher.Execute(ControllerBase controller, Object[] parameters) +14\n",
    "   System.Web.Mvc.ReflectedActionDescriptor.Execute(ControllerContext controllerContext, IDictionary`2 parameters) +157\n",
    "   System.Web.Mvc.ControllerActionInvoker.InvokeActionMethod(ControllerContext controllerContext, ActionDescriptor actionDescriptor, IDictionary`2 parameters) +27\n",
    "   System.Web.Mvc.Async.<>c.<BeginInvokeSynchronousActionMethod>b__9_0(IAsyncResult asyncResult, ActionInvocation innerInvokeState) +22\n",
    "   System.Web.Mvc.Async.WrappedAsyncResult`2.CallEndDelegate(IAsyncResult asyncResult) +29\n",
    "   System.Web.Mvc.Async.WrappedAsyncResultBase`1.End() +49\n",
    "   System.Web.Mvc.Async.AsyncControllerActionInvoker.EndInvokeActionMethod(IAsyncResult asyncResult) +32\n",
    "   System.Web.Mvc.Async.<>c__DisplayClass11_0.<InvokeActionMethodFilterAsynchronouslyRecursive>b__0() +58\n",
    "   System.Web.Mvc.Async.<>c__DisplayClass11_2.<InvokeActionMethodFilterAsynchronouslyRecursive>b__2() +228\n",
    "   System.Web.Mvc.Async.<>c__DisplayClass7_0.<BeginInvokeActionMethodWithFilters>b__1(IAsyncResult asyncResult) +10\n",
    "   System.Web.Mvc.Async.WrappedAsyncResult`1.CallEndDelegate(IAsyncResult asyncResult) +10\n",
    "   System.Web.Mvc.Async.WrappedAsyncResultBase`1.End() +49\n",
    "   System.Web.Mvc.Async.AsyncControllerActionInvoker.EndInvokeActionMethodWithFilters(IAsyncResult asyncResult) +34\n",
    "   System.Web.Mvc.Async.<>c__DisplayClass3_6.<BeginInvokeAction>b__4() +35\n",
    "   System.Web.Mvc.Async.<>c__DisplayClass3_1.<BeginInvokeAction>b__1(IAsyncResult asyncResult) +100\n",
    "   System.Web.Mvc.Async.WrappedAsyncResult`1.CallEndDelegate(IAsyncResult asyncResult) +10\n",
    "   System.Web.Mvc.Async.WrappedAsyncResultBase`1.End() +49\n",
    "   System.Web.Mvc.Async.AsyncControllerActionInvoker.EndInvokeAction(IAsyncResult asyncResult) +27\n",
    "   System.Web.Mvc.<>c.<BeginExecuteCore>b__152_1(IAsyncResult asyncResult, ExecuteCoreState innerState) +11\n",
    "   System.Web.Mvc.Async.WrappedAsyncVoid`1.CallEndDelegate(IAsyncResult asyncResult) +29\n",
    "   System.Web.Mvc.Async.WrappedAsyncResultBase`1.End() +49\n",
    "   System.Web.Mvc.Controller.EndExecuteCore(IAsyncResult asyncResult) +45\n",
    "   System.Web.Mvc.<>c.<BeginExecute>b__151_2(IAsyncResult asyncResult, Controller controller) +13\n",
    "   System.Web.Mvc.Async.WrappedAsyncVoid`1.CallEndDelegate(IAsyncResult asyncResult) +22\n",
    "   System.Web.Mvc.Async.WrappedAsyncResultBase`1.End() +49\n",
    "   System.Web.Mvc.Controller.EndExecute(IAsyncResult asyncResult) +26\n",
    "   System.Web.Mvc.Controller.System.Web.Mvc.Async.IAsyncController.EndExecute(IAsyncResult asyncResult) +10\n",
    "   System.Web.Mvc.<>c.<BeginProcessRequest>b__20_1(IAsyncResult asyncResult, ProcessRequestState innerState) +28\n",
    "   System.Web.Mvc.Async.WrappedAsyncVoid`1.CallEndDelegate(IAsyncResult asyncResult) +29\n",
    "   System.Web.Mvc.Async.WrappedAsyncResultBase`1.End() +49\n",
    "   System.Web.Mvc.MvcHandler.EndProcessRequest(IAsyncResult asyncResult) +28\n",
    "   System.Web.Mvc.MvcHandler.System.Web.IHttpAsyncHandler.EndProcessRequest(IAsyncResult result) +9\n",
    "   System.Web.CallHandlerExecutionStep.System.Web.HttpApplication.IExecutionStep.Execute() +9850009\n",
    "   System.Web.HttpApplication.ExecuteStepImpl(IExecutionStep step) +50\n",
    "   System.Web.HttpApplication.ExecuteStep(IExecutionStep step, Boolean& completedSynchronously) +163\n",
    "\n",
    "*/"
   ]
  },
  {
   "cell_type": "code",
   "execution_count": null,
   "metadata": {
    "dotnet_interactive": {
     "language": "csharp"
    }
   },
   "outputs": [],
   "source": [
    "// Ad 5. Rzucanie.\n",
    "\n",
    "throw new Exception(\"Random exception.\");"
   ]
  },
  {
   "cell_type": "code",
   "execution_count": null,
   "metadata": {
    "dotnet_interactive": {
     "language": "csharp"
    }
   },
   "outputs": [],
   "source": [
    "// Przykład P9: Samolot.\n",
    "class Airplane {\n",
    "    public void ChangeHeight(int meters) {\n",
    "        if (currentHeight + meters > maxHeight) {\n",
    "            throw new Exception(\"Sorry, this airplane cannot fly so high.\");\n",
    "        }\n",
    "        if (currentHeight + meters < 0) {\n",
    "            throw new Exception(\"Sorry, this airplane is not an underground.\");\n",
    "        }\n",
    "\n",
    "        currentHeight += meters;\n",
    "        Console.WriteLine(\"Airplane is now on height: {0} meters.\", currentHeight);\n",
    "    }\n",
    "\n",
    "    public Airplane(int currentHeight, int maxHeight) {\n",
    "        this.currentHeight = currentHeight;\n",
    "        this.maxHeight = maxHeight;\n",
    "    }\n",
    "\n",
    "    private int currentHeight;\n",
    "    private int maxHeight;\n",
    "}"
   ]
  },
  {
   "cell_type": "code",
   "execution_count": null,
   "metadata": {
    "dotnet_interactive": {
     "language": "csharp"
    }
   },
   "outputs": [
    {
     "name": "stdout",
     "output_type": "stream",
     "text": [
      "Airplane is now on height: 300 meters.\r\n",
      "Exception occured: Sorry, this airplane cannot fly so high.\r\n"
     ]
    }
   ],
   "source": [
    "void SteerThePlane() {\n",
    "    var airplane = new Airplane(200, 300);\n",
    "    airplane.ChangeHeight(100);\n",
    "    airplane.ChangeHeight(100);\n",
    "}\n",
    "\n",
    "// Obsługa wyjątku, aplikacja dalej działa.\n",
    "try {\n",
    "    SteerThePlane();\n",
    "}\n",
    "catch (Exception e) {\n",
    "    Console.WriteLine(\"Exception occured: {0}\", e.Message);\n",
    "}"
   ]
  },
  {
   "cell_type": "code",
   "execution_count": null,
   "metadata": {
    "dotnet_interactive": {
     "language": "csharp"
    }
   },
   "outputs": [
    {
     "name": "stdout",
     "output_type": "stream",
     "text": [
      "Airplane is now on height: 0 meters.\r\n",
      "Exception occured: Sorry, this airplane is not an underground.\r\n"
     ]
    },
    {
     "ename": "Error",
     "evalue": "System.Exception: Sorry, this airplane is not an underground.\r\n   at Submission#13.Airplane.ChangeHeight(Int32 meters)\r\n   at Submission#15.SteerThePlane()\r\n   at Submission#15.<<Initialize>>d__0.MoveNext()\r\n--- End of stack trace from previous location ---\r\n   at Microsoft.CodeAnalysis.Scripting.ScriptExecutionState.RunSubmissionsAsync[TResult](ImmutableArray`1 precedingExecutors, Func`2 currentExecutor, StrongBox`1 exceptionHolderOpt, Func`2 catchExceptionOpt, CancellationToken cancellationToken)",
     "output_type": "error",
     "traceback": [
      "System.Exception: Sorry, this airplane is not an underground.\r\n",
      "   at Submission#13.Airplane.ChangeHeight(Int32 meters)\r\n",
      "   at Submission#15.SteerThePlane()\r\n",
      "   at Submission#15.<<Initialize>>d__0.MoveNext()\r\n",
      "--- End of stack trace from previous location ---\r\n",
      "   at Microsoft.CodeAnalysis.Scripting.ScriptExecutionState.RunSubmissionsAsync[TResult](ImmutableArray`1 precedingExecutors, Func`2 currentExecutor, StrongBox`1 exceptionHolderOpt, Func`2 catchExceptionOpt, CancellationToken cancellationToken)"
     ]
    }
   ],
   "source": [
    "void SteerThePlane() {\n",
    "    var airplane = new Airplane(200, 300);\n",
    "    airplane.ChangeHeight(-200);\n",
    "    airplane.ChangeHeight(-200);\n",
    "}\n",
    "\n",
    "// Zmiana stanu programu i przekazanie wyjątku.\n",
    "// Duża szansa, że program się skraszuje.\n",
    "var isBroken = false;\n",
    "try {\n",
    "    SteerThePlane();\n",
    "}\n",
    "catch (Exception e) {\n",
    "    isBroken = true;\n",
    "    Console.WriteLine(\"Exception occured: {0}\", e.Message);\n",
    "    throw;\n",
    "    // throw e; spowodowałby, że stracimy informację o całym śladzie stosu\n",
    "}"
   ]
  },
  {
   "cell_type": "code",
   "execution_count": null,
   "metadata": {
    "dotnet_interactive": {
     "language": "csharp"
    }
   },
   "outputs": [],
   "source": [
    "// Ad 6. Dziedziczenie.\n",
    "// Wybierz plik dziedziczenie.png\n",
    "System.Diagnostics.Process.Start(\"explorer.exe\", @\".\");"
   ]
  },
  {
   "cell_type": "code",
   "execution_count": null,
   "metadata": {
    "dotnet_interactive": {
     "language": "csharp"
    }
   },
   "outputs": [],
   "source": [
    "/* Ad 7. Tworzenie.\n",
    "\n",
    "Gdy pojawia się problem, rzucamy ApplicationException lub Exception,\n",
    "chyba, że zamierzamy inaczej obsłużyć konkretny typ wyjątku.\n",
    "\n",
    "Na przykład: Zapisać inną informację do logów w danej sytuacji.\n",
    "Na przykład: Wysłać SMS do programisty, bo w systemie wydarzyło się coś krytycznego i trzeba przyjechać do biura.\n",
    "\n",
    "źródło: https://stackify.com/csharp-exception-handling-best-practices/\n",
    "*/"
   ]
  },
  {
   "cell_type": "code",
   "execution_count": null,
   "metadata": {
    "dotnet_interactive": {
     "language": "csharp"
    }
   },
   "outputs": [],
   "source": [
    "/* \n",
    "Dobrą praktyka jest przechwytywanie jak najbardziej szczegółowych wyjątków.\n",
    "\n",
    "Przykładowy problem:\n",
    "Przechwytujemy Exception, robimy coś i kontynuujemy działanie aplikacji.\n",
    "Pojawia się OutOfMemoryException, które też zostanie przechwycone (podklasa Exception).\n",
    "Jak obsłużyć taki problem? \n",
    "Czy to nie doprowadzi do kolejnych problemów, jeśli będziemy kontynuować działanie aplikacji?\n",
    "\n",
    "Bezpieczniej przechwycić ApplicationException, bo wtedy żaden systemowy wyjątek tu nie wpadnie.\n",
    "Najlepiej używać własnych wyjątków, dla konkretnych sytuacji.\n",
    "\n",
    "\n",
    "Łapcie wyjątek, tylko gdy:\n",
    "1. Wiecie dokładnie jak go obsłużyć\n",
    "2. Wyrzucicie go za chwilę, ale chcecie coś zrobić lokalnie (np. zmienić stan programu, zrobić logi).\n",
    "3. (*) Potrzebujecie przetransportować go do innego wątku\n",
    "\n",
    "źródło: https://www.generacodice.com/en/articolo/332961/Why-is-the-Catch(Exception)-almost-always-a-bad-Idea\n",
    "*/"
   ]
  },
  {
   "cell_type": "code",
   "execution_count": null,
   "metadata": {
    "dotnet_interactive": {
     "language": "csharp"
    }
   },
   "outputs": [],
   "source": [
    "// Przykład P11: Nowy samolot.\n",
    "// Można się trochę pobawić ;)\n",
    "class IncorrectAltitudeException : ApplicationException {\n",
    "    public IncorrectAltitudeException(string msg) : base(msg) {}\n",
    "}\n",
    "\n",
    "class ToHighAltitudeException : IncorrectAltitudeException {\n",
    "    // Jeśli chcemy rzucać wyjątek z pewną treścią, to należy zaimplementować odpowiedni konstruktor.\n",
    "    public ToHighAltitudeException(string msg) : base(msg) {}\n",
    "}\n",
    "class ToLowAltitudeException : IncorrectAltitudeException {\n",
    "    public ToLowAltitudeException(string msg) : base(msg) {}\n",
    "}\n",
    "\n",
    "class Airplane {\n",
    "    public void ChangeHeight(int meters) {\n",
    "        var newHeight = currentHeight + meters;\n",
    "\n",
    "        if (newHeight > maxHeight) {\n",
    "            throw new ToHighAltitudeException($\"Próba podwyższenia wysokości do {newHeight}, \" + \n",
    "                \"a maksymalna to {maxHeight}.\");\n",
    "        }\n",
    "        if (newHeight < 0) {\n",
    "            throw new ToLowAltitudeException($\"Próba obniżenia wysokości na {newHeight}, a minimalna to 0.\");\n",
    "        }\n",
    "\n",
    "        currentHeight += meters;\n",
    "        Console.WriteLine(\"Airplane is now on height: {0} meters.\", currentHeight);\n",
    "    }\n",
    "\n",
    "    public Airplane(int currentHeight, int maxHeight) {\n",
    "        this.currentHeight = currentHeight;\n",
    "        this.maxHeight = maxHeight;\n",
    "    }\n",
    "\n",
    "    private int currentHeight;\n",
    "    private int maxHeight;\n",
    "}"
   ]
  },
  {
   "cell_type": "code",
   "execution_count": null,
   "metadata": {
    "dotnet_interactive": {
     "language": "csharp"
    }
   },
   "outputs": [
    {
     "name": "stdout",
     "output_type": "stream",
     "text": [
      "Airplane is now on height: 0 meters.\r\n",
      "ToLowAltitudeException occured: Próba obniżenia wysokości na -10, a minimalna to 0.\r\n"
     ]
    }
   ],
   "source": [
    "void SteerThePlane() {\n",
    "    var airplane = new Airplane(200, 300);\n",
    "    airplane.ChangeHeight(-200);\n",
    "    airplane.ChangeHeight(-10);\n",
    "}\n",
    "\n",
    "\n",
    "var lackOfAirAlert = false;\n",
    "var emergencyCallRequired = false;\n",
    "\n",
    "try {\n",
    "    SteerThePlane();\n",
    "}\n",
    "// \"Wiecie dokładnie jak go obsłużyć\" oraz \"zamierzamy inaczej obsłużyć konkretny typ wyjątku\"\n",
    "catch (ToHighAltitudeException e) {\n",
    "    lackOfAirAlert = true;\n",
    "    Console.WriteLine(\"ToHighAltitudeException occured: {0}\", e.Message);\n",
    "}\n",
    "catch (ToLowAltitudeException e) {\n",
    "    emergencyCallRequired = true;\n",
    "    Console.WriteLine(\"ToLowAltitudeException occured: {0}\", e.Message);\n",
    "}"
   ]
  },
  {
   "cell_type": "code",
   "execution_count": null,
   "metadata": {
    "dotnet_interactive": {
     "language": "csharp"
    }
   },
   "outputs": [],
   "source": [
    "/* Ad 8. Popularne. (https://docs.microsoft.com/en-us/dotnet/api/system.exception?view=net-6.0)\n",
    "\n",
    "NullReferenceException      Trying to dereference a null object reference.\n",
    "ArgumentException           A non-null argument that is passed to a method is invalid.\n",
    "ArgumentNullException       An argument that is passed to a method is null.\n",
    "ArgumentOutOfRangeException An argument is outside the range of valid values.\n",
    "DirectoryNotFoundException  Part of a directory path is not valid.\n",
    "DivideByZeroException       The denominator in an integer or Decimal division operation is zero.\n",
    "DriveNotFoundException      A drive is unavailable or does not exist.\n",
    "FileNotFoundException       A file does not exist.\n",
    "FormatException             A value is not in an appropriate format to be converted from a string \n",
    "                            by a conversion method such as Parse.\n",
    "IndexOutOfRangeException    An index is outside the bounds of an array or collection.\n",
    "InvalidOperationException   A method call is invalid in an object's current state.\n",
    "KeyNotFoundException        The specified key for accessing a member in a collection cannot be found.\n",
    "NotImplementedException     A method or operation is not implemented.\n",
    "ObjectDisposedException     An operation is performed on an object that has been disposed.\n",
    "OverflowException           An arithmetic, casting, or conversion operation results in an overflow.\n",
    "*/"
   ]
  },
  {
   "cell_type": "code",
   "execution_count": null,
   "metadata": {
    "dotnet_interactive": {
     "language": "csharp"
    }
   },
   "outputs": [
    {
     "ename": "Error",
     "evalue": "System.NullReferenceException: Object reference not set to an instance of an object.\r\n   at Submission#18.<<Initialize>>d__0.MoveNext()\r\n--- End of stack trace from previous location ---\r\n   at Microsoft.CodeAnalysis.Scripting.ScriptExecutionState.RunSubmissionsAsync[TResult](ImmutableArray`1 precedingExecutors, Func`2 currentExecutor, StrongBox`1 exceptionHolderOpt, Func`2 catchExceptionOpt, CancellationToken cancellationToken)",
     "output_type": "error",
     "traceback": [
      "System.NullReferenceException: Object reference not set to an instance of an object.\r\n",
      "   at Submission#18.<<Initialize>>d__0.MoveNext()\r\n",
      "--- End of stack trace from previous location ---\r\n",
      "   at Microsoft.CodeAnalysis.Scripting.ScriptExecutionState.RunSubmissionsAsync[TResult](ImmutableArray`1 precedingExecutors, Func`2 currentExecutor, StrongBox`1 exceptionHolderOpt, Func`2 catchExceptionOpt, CancellationToken cancellationToken)"
     ]
    }
   ],
   "source": [
    "// NullReferenceException       Trying to dereference a null object reference.\n",
    "List<int> list;\n",
    "list.Add(2);"
   ]
  },
  {
   "cell_type": "code",
   "execution_count": null,
   "metadata": {
    "dotnet_interactive": {
     "language": "csharp"
    }
   },
   "outputs": [
    {
     "ename": "Error",
     "evalue": "System.ArgumentException: Empty path name is not legal.\r\n   at System.IO.StreamReader.ValidateArgsAndOpenPath(String path, Encoding encoding, Int32 bufferSize)\r\n   at System.IO.StreamReader..ctor(String path)\r\n   at Submission#19.<<Initialize>>d__0.MoveNext()\r\n--- End of stack trace from previous location ---\r\n   at Microsoft.CodeAnalysis.Scripting.ScriptExecutionState.RunSubmissionsAsync[TResult](ImmutableArray`1 precedingExecutors, Func`2 currentExecutor, StrongBox`1 exceptionHolderOpt, Func`2 catchExceptionOpt, CancellationToken cancellationToken)",
     "output_type": "error",
     "traceback": [
      "System.ArgumentException: Empty path name is not legal.\r\n",
      "   at System.IO.StreamReader.ValidateArgsAndOpenPath(String path, Encoding encoding, Int32 bufferSize)\r\n",
      "   at System.IO.StreamReader..ctor(String path)\r\n",
      "   at Submission#19.<<Initialize>>d__0.MoveNext()\r\n",
      "--- End of stack trace from previous location ---\r\n",
      "   at Microsoft.CodeAnalysis.Scripting.ScriptExecutionState.RunSubmissionsAsync[TResult](ImmutableArray`1 precedingExecutors, Func`2 currentExecutor, StrongBox`1 exceptionHolderOpt, Func`2 catchExceptionOpt, CancellationToken cancellationToken)"
     ]
    }
   ],
   "source": [
    "// ArgumentException\t        A non-null argument that is passed to a method is invalid.\n",
    "var reader = new System.IO.StreamReader(\"\");"
   ]
  },
  {
   "cell_type": "code",
   "execution_count": null,
   "metadata": {
    "dotnet_interactive": {
     "language": "csharp"
    }
   },
   "outputs": [
    {
     "name": "stdout",
     "output_type": "stream",
     "text": [
      "dotnet is the best\r\n"
     ]
    },
    {
     "ename": "Error",
     "evalue": "System.ArgumentNullException: Value cannot be null. (Parameter 'oldValue')\r\n   at System.String.Replace(String oldValue, String newValue)\r\n   at Submission#20.<<Initialize>>d__0.MoveNext()\r\n--- End of stack trace from previous location ---\r\n   at Microsoft.CodeAnalysis.Scripting.ScriptExecutionState.RunSubmissionsAsync[TResult](ImmutableArray`1 precedingExecutors, Func`2 currentExecutor, StrongBox`1 exceptionHolderOpt, Func`2 catchExceptionOpt, CancellationToken cancellationToken)",
     "output_type": "error",
     "traceback": [
      "System.ArgumentNullException: Value cannot be null. (Parameter 'oldValue')\r\n",
      "   at System.String.Replace(String oldValue, String newValue)\r\n",
      "   at Submission#20.<<Initialize>>d__0.MoveNext()\r\n",
      "--- End of stack trace from previous location ---\r\n",
      "   at Microsoft.CodeAnalysis.Scripting.ScriptExecutionState.RunSubmissionsAsync[TResult](ImmutableArray`1 precedingExecutors, Func`2 currentExecutor, StrongBox`1 exceptionHolderOpt, Func`2 catchExceptionOpt, CancellationToken cancellationToken)"
     ]
    }
   ],
   "source": [
    "// ArgumentNullException\t    An argument that is passed to a method is null.\n",
    "var newString = \"python is the best\".Replace(\"python\", \"dotnet\");\n",
    "Console.WriteLine(newString);\n",
    "\n",
    "newString = \"python is the best\".Replace(null, \"dotnet\");\n",
    "Console.WriteLine(newString);"
   ]
  },
  {
   "cell_type": "code",
   "execution_count": null,
   "metadata": {
    "dotnet_interactive": {
     "language": "csharp"
    }
   },
   "outputs": [
    {
     "ename": "Error",
     "evalue": "System.ArgumentOutOfRangeException: Non-negative number required. (Parameter 'capacity')\r\n   at System.Collections.Generic.List`1..ctor(Int32 capacity)\r\n   at Submission#21.<<Initialize>>d__0.MoveNext()\r\n--- End of stack trace from previous location ---\r\n   at Microsoft.CodeAnalysis.Scripting.ScriptExecutionState.RunSubmissionsAsync[TResult](ImmutableArray`1 precedingExecutors, Func`2 currentExecutor, StrongBox`1 exceptionHolderOpt, Func`2 catchExceptionOpt, CancellationToken cancellationToken)",
     "output_type": "error",
     "traceback": [
      "System.ArgumentOutOfRangeException: Non-negative number required. (Parameter 'capacity')\r\n",
      "   at System.Collections.Generic.List`1..ctor(Int32 capacity)\r\n",
      "   at Submission#21.<<Initialize>>d__0.MoveNext()\r\n",
      "--- End of stack trace from previous location ---\r\n",
      "   at Microsoft.CodeAnalysis.Scripting.ScriptExecutionState.RunSubmissionsAsync[TResult](ImmutableArray`1 precedingExecutors, Func`2 currentExecutor, StrongBox`1 exceptionHolderOpt, Func`2 catchExceptionOpt, CancellationToken cancellationToken)"
     ]
    }
   ],
   "source": [
    "// ArgumentOutOfRangeException\tAn argument is outside the range of valid values.\n",
    "var stringlist = new List<string>(-1);"
   ]
  },
  {
   "cell_type": "code",
   "execution_count": null,
   "metadata": {
    "dotnet_interactive": {
     "language": "csharp"
    }
   },
   "outputs": [
    {
     "ename": "Error",
     "evalue": "System.IO.DirectoryNotFoundException: Could not find a part of the path 'c:\\Users\\rys\\source\\exceptions\\this is not a valid path'.\r\n   at System.IO.FileSystem.RemoveDirectoryInternal(String fullPath, Boolean topLevel, Boolean allowDirectoryNotEmpty)\r\n   at System.IO.FileSystem.RemoveDirectory(String fullPath, Boolean recursive)\r\n   at System.IO.Directory.Delete(String path)\r\n   at Submission#22.<<Initialize>>d__0.MoveNext()\r\n--- End of stack trace from previous location ---\r\n   at Microsoft.CodeAnalysis.Scripting.ScriptExecutionState.RunSubmissionsAsync[TResult](ImmutableArray`1 precedingExecutors, Func`2 currentExecutor, StrongBox`1 exceptionHolderOpt, Func`2 catchExceptionOpt, CancellationToken cancellationToken)",
     "output_type": "error",
     "traceback": [
      "System.IO.DirectoryNotFoundException: Could not find a part of the path 'c:\\Users\\rys\\source\\exceptions\\this is not a valid path'.\r\n",
      "   at System.IO.FileSystem.RemoveDirectoryInternal(String fullPath, Boolean topLevel, Boolean allowDirectoryNotEmpty)\r\n",
      "   at System.IO.FileSystem.RemoveDirectory(String fullPath, Boolean recursive)\r\n",
      "   at System.IO.Directory.Delete(String path)\r\n",
      "   at Submission#22.<<Initialize>>d__0.MoveNext()\r\n",
      "--- End of stack trace from previous location ---\r\n",
      "   at Microsoft.CodeAnalysis.Scripting.ScriptExecutionState.RunSubmissionsAsync[TResult](ImmutableArray`1 precedingExecutors, Func`2 currentExecutor, StrongBox`1 exceptionHolderOpt, Func`2 catchExceptionOpt, CancellationToken cancellationToken)"
     ]
    }
   ],
   "source": [
    "// DirectoryNotFoundException\tPart of a directory path is not valid.\n",
    "System.IO.Directory.Delete(\"this is not a valid path\");"
   ]
  },
  {
   "cell_type": "code",
   "execution_count": null,
   "metadata": {
    "dotnet_interactive": {
     "language": "csharp"
    }
   },
   "outputs": [
    {
     "ename": "Error",
     "evalue": "System.DivideByZeroException: Attempted to divide by zero.\r\n   at Submission#23.<<Initialize>>d__0.MoveNext()\r\n--- End of stack trace from previous location ---\r\n   at Microsoft.CodeAnalysis.Scripting.ScriptExecutionState.RunSubmissionsAsync[TResult](ImmutableArray`1 precedingExecutors, Func`2 currentExecutor, StrongBox`1 exceptionHolderOpt, Func`2 catchExceptionOpt, CancellationToken cancellationToken)",
     "output_type": "error",
     "traceback": [
      "System.DivideByZeroException: Attempted to divide by zero.\r\n",
      "   at Submission#23.<<Initialize>>d__0.MoveNext()\r\n",
      "--- End of stack trace from previous location ---\r\n",
      "   at Microsoft.CodeAnalysis.Scripting.ScriptExecutionState.RunSubmissionsAsync[TResult](ImmutableArray`1 precedingExecutors, Func`2 currentExecutor, StrongBox`1 exceptionHolderOpt, Func`2 catchExceptionOpt, CancellationToken cancellationToken)"
     ]
    }
   ],
   "source": [
    "// DivideByZeroException\t    The denominator in an integer or Decimal division operation is zero.\n",
    "int a = 2;\n",
    "int b = 0;\n",
    "\n",
    "var value = a / b;"
   ]
  },
  {
   "cell_type": "code",
   "execution_count": null,
   "metadata": {
    "dotnet_interactive": {
     "language": "csharp"
    }
   },
   "outputs": [
    {
     "name": "stdout",
     "output_type": "stream",
     "text": [
      "Free space in C: 59,15 GB\r\n"
     ]
    },
    {
     "ename": "Error",
     "evalue": "System.IO.DriveNotFoundException: Could not find the drive 'X:\\'. The drive might not be ready or might not be mapped.\r\n   at System.IO.DriveInfo.get_AvailableFreeSpace()\r\n   at Submission#24.<<Initialize>>d__0.MoveNext()\r\n--- End of stack trace from previous location ---\r\n   at Microsoft.CodeAnalysis.Scripting.ScriptExecutionState.RunSubmissionsAsync[TResult](ImmutableArray`1 precedingExecutors, Func`2 currentExecutor, StrongBox`1 exceptionHolderOpt, Func`2 catchExceptionOpt, CancellationToken cancellationToken)",
     "output_type": "error",
     "traceback": [
      "System.IO.DriveNotFoundException: Could not find the drive 'X:\\'. The drive might not be ready or might not be mapped.\r\n",
      "   at System.IO.DriveInfo.get_AvailableFreeSpace()\r\n",
      "   at Submission#24.<<Initialize>>d__0.MoveNext()\r\n",
      "--- End of stack trace from previous location ---\r\n",
      "   at Microsoft.CodeAnalysis.Scripting.ScriptExecutionState.RunSubmissionsAsync[TResult](ImmutableArray`1 precedingExecutors, Func`2 currentExecutor, StrongBox`1 exceptionHolderOpt, Func`2 catchExceptionOpt, CancellationToken cancellationToken)"
     ]
    }
   ],
   "source": [
    "// DriveNotFoundException\t    A drive is unavailable or does not exist.\n",
    "// code from: https://kodify.net/csharp/computer-drive/inaccessible-drives/#handle-c-exceptions-caused-by-inaccessible-drives\n",
    "\n",
    "// public class DriveNotFoundException : System.IO.IOException\n",
    "var drive = new System.IO.DriveInfo(\"C\");\n",
    "\n",
    "// Czy w tym miejscu użyć const int?\n",
    "var bytesInAGB = 1024 * 1024 * 1024;\n",
    "Console.WriteLine(\"Free space in {1}: {0:0.00} GB\", (double)drive.AvailableFreeSpace / bytesInAGB, drive.Name[0]);\n",
    "\n",
    "// Nie posiadam dysku X\n",
    "drive = new System.IO.DriveInfo(\"X\");\n",
    "Console.WriteLine(\"Free space in {1}: {0:0.00} GB\", (double)drive.AvailableFreeSpace / bytesInAGB, drive.Name[0]);"
   ]
  },
  {
   "cell_type": "code",
   "execution_count": null,
   "metadata": {
    "dotnet_interactive": {
     "language": "csharp"
    }
   },
   "outputs": [
    {
     "ename": "Error",
     "evalue": "System.IO.FileNotFoundException: Could not find file 'c:\\Users\\rys\\source\\exceptions\\this is not a valid path'.\r\nFile name: 'c:\\Users\\rys\\source\\exceptions\\this is not a valid path'\r\n   at System.IO.FileStream.ValidateFileHandle(SafeFileHandle fileHandle)\r\n   at System.IO.FileStream.CreateFileOpenHandle(FileMode mode, FileShare share, FileOptions options)\r\n   at System.IO.FileStream..ctor(String path, FileMode mode, FileAccess access, FileShare share, Int32 bufferSize, FileOptions options)\r\n   at System.IO.FileStream..ctor(String path, FileMode mode, FileAccess access, FileShare share)\r\n   at System.IO.File.Open(String path, FileMode mode)\r\n   at Submission#25.<<Initialize>>d__0.MoveNext()\r\n--- End of stack trace from previous location ---\r\n   at Microsoft.CodeAnalysis.Scripting.ScriptExecutionState.RunSubmissionsAsync[TResult](ImmutableArray`1 precedingExecutors, Func`2 currentExecutor, StrongBox`1 exceptionHolderOpt, Func`2 catchExceptionOpt, CancellationToken cancellationToken)",
     "output_type": "error",
     "traceback": [
      "System.IO.FileNotFoundException: Could not find file 'c:\\Users\\rys\\source\\exceptions\\this is not a valid path'.\r\n",
      "File name: 'c:\\Users\\rys\\source\\exceptions\\this is not a valid path'\r\n",
      "   at System.IO.FileStream.ValidateFileHandle(SafeFileHandle fileHandle)\r\n",
      "   at System.IO.FileStream.CreateFileOpenHandle(FileMode mode, FileShare share, FileOptions options)\r\n",
      "   at System.IO.FileStream..ctor(String path, FileMode mode, FileAccess access, FileShare share, Int32 bufferSize, FileOptions options)\r\n",
      "   at System.IO.FileStream..ctor(String path, FileMode mode, FileAccess access, FileShare share)\r\n",
      "   at System.IO.File.Open(String path, FileMode mode)\r\n",
      "   at Submission#25.<<Initialize>>d__0.MoveNext()\r\n",
      "--- End of stack trace from previous location ---\r\n",
      "   at Microsoft.CodeAnalysis.Scripting.ScriptExecutionState.RunSubmissionsAsync[TResult](ImmutableArray`1 precedingExecutors, Func`2 currentExecutor, StrongBox`1 exceptionHolderOpt, Func`2 catchExceptionOpt, CancellationToken cancellationToken)"
     ]
    }
   ],
   "source": [
    "// FileNotFoundException\t    A file does not exist.\n",
    "using System.IO;\n",
    "\n",
    "File.Open(\"this is not a valid path\", FileMode.Open);"
   ]
  },
  {
   "cell_type": "code",
   "execution_count": null,
   "metadata": {
    "dotnet_interactive": {
     "language": "csharp"
    }
   },
   "outputs": [
    {
     "ename": "Error",
     "evalue": "System.FormatException: Input string was not in a correct format.\r\n   at System.Number.ThrowOverflowOrFormatException(ParsingStatus status, TypeCode type)\r\n   at System.Number.ParseInt32(ReadOnlySpan`1 value, NumberStyles styles, NumberFormatInfo info)\r\n   at System.Int32.Parse(String s)\r\n   at Submission#26.<<Initialize>>d__0.MoveNext()\r\n--- End of stack trace from previous location ---\r\n   at Microsoft.CodeAnalysis.Scripting.ScriptExecutionState.RunSubmissionsAsync[TResult](ImmutableArray`1 precedingExecutors, Func`2 currentExecutor, StrongBox`1 exceptionHolderOpt, Func`2 catchExceptionOpt, CancellationToken cancellationToken)",
     "output_type": "error",
     "traceback": [
      "System.FormatException: Input string was not in a correct format.\r\n",
      "   at System.Number.ThrowOverflowOrFormatException(ParsingStatus status, TypeCode type)\r\n",
      "   at System.Number.ParseInt32(ReadOnlySpan`1 value, NumberStyles styles, NumberFormatInfo info)\r\n",
      "   at System.Int32.Parse(String s)\r\n",
      "   at Submission#26.<<Initialize>>d__0.MoveNext()\r\n",
      "--- End of stack trace from previous location ---\r\n",
      "   at Microsoft.CodeAnalysis.Scripting.ScriptExecutionState.RunSubmissionsAsync[TResult](ImmutableArray`1 precedingExecutors, Func`2 currentExecutor, StrongBox`1 exceptionHolderOpt, Func`2 catchExceptionOpt, CancellationToken cancellationToken)"
     ]
    }
   ],
   "source": [
    "// FormatException\t\t\t    A value is not in an appropriate format to be converted from a string \n",
    "//                              by a conversion method such as Parse.\n",
    "var value = int.Parse(\"trzy\");"
   ]
  },
  {
   "cell_type": "code",
   "execution_count": null,
   "metadata": {
    "dotnet_interactive": {
     "language": "csharp"
    }
   },
   "outputs": [
    {
     "ename": "Error",
     "evalue": "System.IndexOutOfRangeException: Index was outside the bounds of the array.\r\n   at Submission#27.<<Initialize>>d__0.MoveNext()\r\n--- End of stack trace from previous location ---\r\n   at Microsoft.CodeAnalysis.Scripting.ScriptExecutionState.RunSubmissionsAsync[TResult](ImmutableArray`1 precedingExecutors, Func`2 currentExecutor, StrongBox`1 exceptionHolderOpt, Func`2 catchExceptionOpt, CancellationToken cancellationToken)",
     "output_type": "error",
     "traceback": [
      "System.IndexOutOfRangeException: Index was outside the bounds of the array.\r\n",
      "   at Submission#27.<<Initialize>>d__0.MoveNext()\r\n",
      "--- End of stack trace from previous location ---\r\n",
      "   at Microsoft.CodeAnalysis.Scripting.ScriptExecutionState.RunSubmissionsAsync[TResult](ImmutableArray`1 precedingExecutors, Func`2 currentExecutor, StrongBox`1 exceptionHolderOpt, Func`2 catchExceptionOpt, CancellationToken cancellationToken)"
     ]
    }
   ],
   "source": [
    "// IndexOutOfRangeException\t\tAn index is outside the bounds of an array or collection.\n",
    "var values = new int[] { 2, 1, 3, 7 };\n",
    "Console.WriteLine(values[4]);"
   ]
  },
  {
   "cell_type": "code",
   "execution_count": null,
   "metadata": {
    "dotnet_interactive": {
     "language": "csharp"
    }
   },
   "outputs": [
    {
     "name": "stdout",
     "output_type": "stream",
     "text": [
      "Adding 1 to the collection...\n",
      "\r\n"
     ]
    },
    {
     "ename": "Error",
     "evalue": "System.InvalidOperationException: Collection was modified; enumeration operation may not execute.\r\n   at System.Collections.Generic.List`1.Enumerator.MoveNextRare()\r\n   at Submission#28.<<Initialize>>d__0.MoveNext()\r\n--- End of stack trace from previous location ---\r\n   at Microsoft.CodeAnalysis.Scripting.ScriptExecutionState.RunSubmissionsAsync[TResult](ImmutableArray`1 precedingExecutors, Func`2 currentExecutor, StrongBox`1 exceptionHolderOpt, Func`2 catchExceptionOpt, CancellationToken cancellationToken)",
     "output_type": "error",
     "traceback": [
      "System.InvalidOperationException: Collection was modified; enumeration operation may not execute.\r\n",
      "   at System.Collections.Generic.List`1.Enumerator.MoveNextRare()\r\n",
      "   at Submission#28.<<Initialize>>d__0.MoveNext()\r\n",
      "--- End of stack trace from previous location ---\r\n",
      "   at Microsoft.CodeAnalysis.Scripting.ScriptExecutionState.RunSubmissionsAsync[TResult](ImmutableArray`1 precedingExecutors, Func`2 currentExecutor, StrongBox`1 exceptionHolderOpt, Func`2 catchExceptionOpt, CancellationToken cancellationToken)"
     ]
    }
   ],
   "source": [
    "// InvalidOperationException\tA method call is invalid in an object's current state.\n",
    "var numbers = new List<int>() { 1, 2, 3, 4, 5 };\n",
    "foreach (var number in numbers) {\n",
    "    int square = (int) Math.Pow(number, 2);\n",
    "    Console.WriteLine(\"Adding {0} to the collection...\\n\", square);\n",
    "    numbers.Add(square);\n",
    "}"
   ]
  },
  {
   "cell_type": "code",
   "execution_count": null,
   "metadata": {
    "dotnet_interactive": {
     "language": "csharp"
    }
   },
   "outputs": [
    {
     "ename": "Error",
     "evalue": "System.Collections.Generic.KeyNotFoundException: The given key '@Y' was not present in the dictionary.\r\n   at System.Collections.Generic.Dictionary`2.get_Item(TKey key)\r\n   at Submission#29.<<Initialize>>d__0.MoveNext()\r\n--- End of stack trace from previous location ---\r\n   at Microsoft.CodeAnalysis.Scripting.ScriptExecutionState.RunSubmissionsAsync[TResult](ImmutableArray`1 precedingExecutors, Func`2 currentExecutor, StrongBox`1 exceptionHolderOpt, Func`2 catchExceptionOpt, CancellationToken cancellationToken)",
     "output_type": "error",
     "traceback": [
      "System.Collections.Generic.KeyNotFoundException: The given key '@Y' was not present in the dictionary.\r\n",
      "   at System.Collections.Generic.Dictionary`2.get_Item(TKey key)\r\n",
      "   at Submission#29.<<Initialize>>d__0.MoveNext()\r\n",
      "--- End of stack trace from previous location ---\r\n",
      "   at Microsoft.CodeAnalysis.Scripting.ScriptExecutionState.RunSubmissionsAsync[TResult](ImmutableArray`1 precedingExecutors, Func`2 currentExecutor, StrongBox`1 exceptionHolderOpt, Func`2 catchExceptionOpt, CancellationToken cancellationToken)"
     ]
    }
   ],
   "source": [
    "// KeyNotFoundException\t    \tThe specified key for accessing a member in a collection cannot be found.\n",
    "\n",
    "// public class KeyNotFoundException : SystemException\n",
    "var colorCodes = new Dictionary<string, ConsoleColor> { \n",
    "    { \"@R\", ConsoleColor.Blue },\n",
    "    { \"@G\", ConsoleColor.Red },\n",
    "    { \"@B\", ConsoleColor.Green }\n",
    "};\n",
    "\n",
    "Console.BackgroundColor = colorCodes[\"@Y\"];"
   ]
  },
  {
   "cell_type": "code",
   "execution_count": null,
   "metadata": {
    "dotnet_interactive": {
     "language": "csharp"
    }
   },
   "outputs": [
    {
     "ename": "Error",
     "evalue": "System.NotImplementedException: The method or operation is not implemented.\r\n   at Submission#30.Ficzer()\r\n   at Submission#30.<<Initialize>>d__0.MoveNext()\r\n--- End of stack trace from previous location ---\r\n   at Microsoft.CodeAnalysis.Scripting.ScriptExecutionState.RunSubmissionsAsync[TResult](ImmutableArray`1 precedingExecutors, Func`2 currentExecutor, StrongBox`1 exceptionHolderOpt, Func`2 catchExceptionOpt, CancellationToken cancellationToken)",
     "output_type": "error",
     "traceback": [
      "System.NotImplementedException: The method or operation is not implemented.\r\n",
      "   at Submission#30.Ficzer()\r\n",
      "   at Submission#30.<<Initialize>>d__0.MoveNext()\r\n",
      "--- End of stack trace from previous location ---\r\n",
      "   at Microsoft.CodeAnalysis.Scripting.ScriptExecutionState.RunSubmissionsAsync[TResult](ImmutableArray`1 precedingExecutors, Func`2 currentExecutor, StrongBox`1 exceptionHolderOpt, Func`2 catchExceptionOpt, CancellationToken cancellationToken)"
     ]
    }
   ],
   "source": [
    "// NotImplementedException\t  \tA method or operation is not implemented.\n",
    "\n",
    "// Specjalnie dałem zwracany typ int, jeśli rzucamy wyjątek, to nie musimy zwracać wyniku.\n",
    "static int Ficzer()\n",
    "{\n",
    "    // Not developed yet.\n",
    "    throw new NotImplementedException();\n",
    "}\n",
    "\n",
    "Ficzer();"
   ]
  },
  {
   "cell_type": "code",
   "execution_count": null,
   "metadata": {
    "dotnet_interactive": {
     "language": "csharp"
    }
   },
   "outputs": [
    {
     "name": "stdout",
     "output_type": "stream",
     "text": [
      "test\r\n",
      "1\r\n",
      "2\r\n",
      "3\r\n"
     ]
    },
    {
     "ename": "Error",
     "evalue": "System.ObjectDisposedException: Cannot read from a closed TextReader.\r\nObject name: 'StreamReader'.\r\n   at System.IO.StreamReader.<ThrowIfDisposed>g__ThrowObjectDisposedException|68_0()\r\n   at System.IO.StreamReader.ReadLine()\r\n   at Submission#31.<<Initialize>>d__0.MoveNext()\r\n--- End of stack trace from previous location ---\r\n   at Microsoft.CodeAnalysis.Scripting.ScriptExecutionState.RunSubmissionsAsync[TResult](ImmutableArray`1 precedingExecutors, Func`2 currentExecutor, StrongBox`1 exceptionHolderOpt, Func`2 catchExceptionOpt, CancellationToken cancellationToken)",
     "output_type": "error",
     "traceback": [
      "System.ObjectDisposedException: Cannot read from a closed TextReader.\r\n",
      "Object name: 'StreamReader'.\r\n",
      "   at System.IO.StreamReader.<ThrowIfDisposed>g__ThrowObjectDisposedException|68_0()\r\n",
      "   at System.IO.StreamReader.ReadLine()\r\n",
      "   at Submission#31.<<Initialize>>d__0.MoveNext()\r\n",
      "--- End of stack trace from previous location ---\r\n",
      "   at Microsoft.CodeAnalysis.Scripting.ScriptExecutionState.RunSubmissionsAsync[TResult](ImmutableArray`1 precedingExecutors, Func`2 currentExecutor, StrongBox`1 exceptionHolderOpt, Func`2 catchExceptionOpt, CancellationToken cancellationToken)"
     ]
    }
   ],
   "source": [
    "// ObjectDisposedException\t  An operation is performed on an object that has been disposed.\n",
    "System.IO.StreamReader reader;\n",
    "\n",
    "using (reader = new System.IO.StreamReader(\"test.txt\")) {\n",
    "    var readLine = string.Empty;\n",
    "\n",
    "    while ((readLine = reader.ReadLine()) != null) {\n",
    "        Console.WriteLine(readLine);\n",
    "    }\n",
    "}\n",
    "\n",
    "reader.ReadLine();"
   ]
  },
  {
   "cell_type": "code",
   "execution_count": null,
   "metadata": {
    "dotnet_interactive": {
     "language": "csharp"
    }
   },
   "outputs": [
    {
     "ename": "Error",
     "evalue": "System.OverflowException: Arithmetic operation resulted in an overflow.\r\n   at Submission#32.<<Initialize>>d__0.MoveNext()\r\n--- End of stack trace from previous location ---\r\n   at Microsoft.CodeAnalysis.Scripting.ScriptExecutionState.RunSubmissionsAsync[TResult](ImmutableArray`1 precedingExecutors, Func`2 currentExecutor, StrongBox`1 exceptionHolderOpt, Func`2 catchExceptionOpt, CancellationToken cancellationToken)",
     "output_type": "error",
     "traceback": [
      "System.OverflowException: Arithmetic operation resulted in an overflow.\r\n",
      "   at Submission#32.<<Initialize>>d__0.MoveNext()\r\n",
      "--- End of stack trace from previous location ---\r\n",
      "   at Microsoft.CodeAnalysis.Scripting.ScriptExecutionState.RunSubmissionsAsync[TResult](ImmutableArray`1 precedingExecutors, Func`2 currentExecutor, StrongBox`1 exceptionHolderOpt, Func`2 catchExceptionOpt, CancellationToken cancellationToken)"
     ]
    }
   ],
   "source": [
    "// OverflowException             An arithmetic, casting, or conversion operation results in an overflow.\n",
    "\n",
    "/*\n",
    "The checked keyword is used to explicitly enable overflow checking \n",
    "for integral-type arithmetic operations and conversions.\n",
    "*/\n",
    "checked {\n",
    "    int value = System.Int32.MaxValue;\n",
    "    int square = value * value;\n",
    "    Console.WriteLine(\"{0} ^ 2 = {1}\", value, square);\n",
    "}"
   ]
  },
  {
   "cell_type": "code",
   "execution_count": null,
   "metadata": {
    "dotnet_interactive": {
     "language": "csharp"
    }
   },
   "outputs": [],
   "source": [
    "// Ad 9. Trudne.\n",
    "// Patrz: projekt ConsoleApplication1"
   ]
  }
 ],
 "metadata": {
  "kernelspec": {
   "display_name": ".NET (C#)",
   "language": "C#",
   "name": ".net-csharp"
  },
  "language_info": {
   "name": "C#"
  }
 },
 "nbformat": 4,
 "nbformat_minor": 2
}
